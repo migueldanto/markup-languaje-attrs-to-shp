{
 "cells": [
  {
   "cell_type": "code",
   "execution_count": 1,
   "metadata": {},
   "outputs": [],
   "source": [
    "import geopandas as geopd\n",
    "import pandas as pd\n",
    "geopd.io.file.fiona.drvsupport.supported_drivers['KML'] = 'rw'\n",
    "\n",
    "def sacar_Atributos(row):\n",
    "    el_html=row[\"Description\"]\n",
    "    description1=pd.read_html(el_html)[1]\n",
    "    dict1={\"geometry\":row[\"geometry\"],\"Name\":row[\"Name\"]}\n",
    "    for i,rr in description1.fillna(\"NA\").iterrows():\n",
    "        dict1[rr[0]]=rr[1]\n",
    "    return pd.Series(dict1)\n",
    "\n"
   ]
  },
  {
   "cell_type": "code",
   "execution_count": 2,
   "metadata": {},
   "outputs": [
    {
     "name": "stdout",
     "output_type": "stream",
     "text": [
      "22_Querétaro.kml\n",
      "-->estados/22_Queretaro_atr_ok.geojson\n",
      "19_Nuevo León.kml\n",
      "-->estados/19_Nuevo Leon_atr_ok.geojson\n",
      "04_Campeche.kml\n",
      "-->estados/04_Campeche_atr_ok.geojson\n",
      "27_Tabasco.kml\n",
      "-->estados/27_Tabasco_atr_ok.geojson\n",
      "28_Tamaulipas.kml\n",
      "-->estados/28_Tamaulipas_atr_ok.geojson\n",
      "20_Oaxaca.kml\n",
      "-->estados/20_Oaxaca_atr_ok.geojson\n",
      "13_Hidalgo.kml\n",
      "-->estados/13_Hidalgo_atr_ok.geojson\n",
      "09_Ciudad de México.kml\n",
      "-->estados/09_Ciudad de Mexico_atr_ok.geojson\n",
      "15_México.kml\n",
      "-->estados/15_Mexico_atr_ok.geojson\n",
      "11_Guanajuato.kml\n",
      "-->estados/11_Guanajuato_atr_ok.geojson\n",
      "03_Baja California Sur.kml\n",
      "-->estados/03_Baja California Sur_atr_ok.geojson\n",
      "14_Jalisco.kml\n",
      "-->estados/14_Jalisco_atr_ok.geojson\n",
      "32_Zacatecas.kml\n",
      "-->estados/32_Zacatecas_atr_ok.geojson\n",
      "06_Colima.kml\n",
      "-->estados/06_Colima_atr_ok.geojson\n",
      "16_Michoacán.kml\n",
      "-->estados/16_Michoacan_atr_ok.geojson\n",
      "12_Guerrero.kml\n",
      "-->estados/12_Guerrero_atr_ok.geojson\n",
      "08_Chihuahua.kml\n",
      "-->estados/08_Chihuahua_atr_ok.geojson\n",
      "07_Chiapas.kml\n",
      "-->estados/07_Chiapas_atr_ok.geojson\n",
      "01_Aguascalientes.kml\n",
      "-->estados/01_Aguascalientes_atr_ok.geojson\n",
      "17_Morelos.kml\n",
      "-->estados/17_Morelos_atr_ok.geojson\n",
      "23_Quintana Roo.kml\n",
      "-->estados/23_Quintana Roo_atr_ok.geojson\n",
      "30_Veracruz.kml\n",
      "-->estados/30_Veracruz_atr_ok.geojson\n",
      "31_Yucatán.kml\n",
      "-->estados/31_Yucatan_atr_ok.geojson\n",
      "18_Nayarit.kml\n",
      "-->estados/18_Nayarit_atr_ok.geojson\n",
      "21_Puebla.kml\n",
      "-->estados/21_Puebla_atr_ok.geojson\n",
      "05_Coahuila.kml\n",
      "-->estados/05_Coahuila_atr_ok.geojson\n",
      "24_San Luis Potosí.kml\n",
      "-->estados/24_San Luis Potosi_atr_ok.geojson\n",
      "02_Baja California.kml\n",
      "-->estados/02_Baja California_atr_ok.geojson\n",
      "26_Sonora.kml\n",
      "-->estados/26_Sonora_atr_ok.geojson\n",
      "10_Durango.kml\n",
      "-->estados/10_Durango_atr_ok.geojson\n",
      "25_Sinaloa.kml\n",
      "-->estados/25_Sinaloa_atr_ok.geojson\n",
      "29_Tlaxcala.kml\n",
      "-->estados/29_Tlaxcala_atr_ok.geojson\n"
     ]
    }
   ],
   "source": [
    "from os import listdir\n",
    "from unidecode import unidecode\n",
    "for kml in listdir(\"estados/\"):\n",
    "    print(kml)\n",
    "    layer1=geopd.read_file(\"estados/\"+kml,driver=\"KML\")\n",
    "    obtenirdo=layer1.apply(lambda x:sacar_Atributos(x) ,axis=1)\n",
    "    layer2= obtenirdo#geopd.GeoDataFrame(obtenirdo,geometry=\"geometry\")\n",
    "    name_new_file=unidecode(kml[:-4])\n",
    "    name_new_file=\"estados/\"+name_new_file+\"_atr_ok.geojson\"\n",
    "    print(\"-->\"+name_new_file)\n",
    "    layer2.to_file(name_new_file,driver='GeoJSON',encoding=\"utf-8\")"
   ]
  },
  {
   "cell_type": "code",
   "execution_count": 1,
   "metadata": {},
   "outputs": [
    {
     "data": {
      "text/plain": [
       "['agebs_pobreza_2015.kmz',\n",
       " '2 agregando atributos bien.ipynb',\n",
       " '.ipynb_checkpoints',\n",
       " 'estados',\n",
       " 'prb.sh',\n",
       " 'lista_agebs_pobreza_2015.kmz.txt',\n",
       " 'capa_01.shp',\n",
       " '1_sacar_capas_de_kmz.sh',\n",
       " '3_juntar jsons en un archivo.sh']"
      ]
     },
     "execution_count": 1,
     "metadata": {},
     "output_type": "execute_result"
    }
   ],
   "source": [
    "from os import listdir\n",
    "listdir(\"./\")"
   ]
  },
  {
   "cell_type": "code",
   "execution_count": null,
   "metadata": {},
   "outputs": [],
   "source": []
  }
 ],
 "metadata": {
  "kernelspec": {
   "display_name": "Python 3",
   "language": "python",
   "name": "python3"
  },
  "language_info": {
   "codemirror_mode": {
    "name": "ipython",
    "version": 3
   },
   "file_extension": ".py",
   "mimetype": "text/x-python",
   "name": "python",
   "nbconvert_exporter": "python",
   "pygments_lexer": "ipython3",
   "version": "3.7.3"
  }
 },
 "nbformat": 4,
 "nbformat_minor": 4
}
